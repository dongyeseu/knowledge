{
 "cells": [
  {
   "cell_type": "code",
   "execution_count": 22,
   "id": "32759f91",
   "metadata": {},
   "outputs": [],
   "source": [
    "import pandas as pd \n",
    "import numpy as np\n",
    "import matplotlib.pyplot as plt\n",
    "from sklearn.ensemble import RandomForestClassifier \n",
    "from sklearn.model_selection import train_test_split\n",
    "from sklearn.tree import DecisionTreeClassifier\n",
    "from sklearn.datasets import load_wine\n",
    "from sklearn.model_selection import cross_val_score\n",
    "%matplotlib inline"
   ]
  },
  {
   "cell_type": "markdown",
   "id": "1c90e6f1",
   "metadata": {},
   "source": [
    "# RandomForestClassifier\n",
    "官网链接： https://scikit-learn.org/stable/modules/generated/sklearn.ensemble.RandomForestClassifier.html#sklearn.ensemble.RandomForestClassifier\n",
    "```python\n",
    "class sklearn.ensemble.RandomForestClassifier(n_estimators=100, *, criterion='gini', max_depth=None, min_samples_split=2, min_samples_leaf=1, min_weight_fraction_leaf=0.0, max_features='auto', max_leaf_nodes=None, min_impurity_decrease=0.0, min_impurity_split=None, bootstrap=True, oob_score=False, n_jobs=None, random_state=None, verbose=0, warm_start=False, class_weight=None, ccp_alpha=0.0, max_samples=None)\n",
    "```\n",
    "\n",
    "- n_estimators : 基评估器，对精确性的影响是单调的，该值越大，模型的效果往往越好"
   ]
  },
  {
   "cell_type": "code",
   "execution_count": 7,
   "id": "76b993d8",
   "metadata": {},
   "outputs": [
    {
     "data": {
      "text/html": [
       "<div>\n",
       "<style scoped>\n",
       "    .dataframe tbody tr th:only-of-type {\n",
       "        vertical-align: middle;\n",
       "    }\n",
       "\n",
       "    .dataframe tbody tr th {\n",
       "        vertical-align: top;\n",
       "    }\n",
       "\n",
       "    .dataframe thead th {\n",
       "        text-align: right;\n",
       "    }\n",
       "</style>\n",
       "<table border=\"1\" class=\"dataframe\">\n",
       "  <thead>\n",
       "    <tr style=\"text-align: right;\">\n",
       "      <th></th>\n",
       "      <th>alcohol</th>\n",
       "      <th>malic_acid</th>\n",
       "      <th>ash</th>\n",
       "      <th>alcalinity_of_ash</th>\n",
       "      <th>magnesium</th>\n",
       "      <th>total_phenols</th>\n",
       "      <th>flavanoids</th>\n",
       "      <th>nonflavanoid_phenols</th>\n",
       "      <th>proanthocyanins</th>\n",
       "      <th>color_intensity</th>\n",
       "      <th>hue</th>\n",
       "      <th>od280/od315_of_diluted_wines</th>\n",
       "      <th>proline</th>\n",
       "      <th>target</th>\n",
       "    </tr>\n",
       "  </thead>\n",
       "  <tbody>\n",
       "    <tr>\n",
       "      <th>0</th>\n",
       "      <td>14.23</td>\n",
       "      <td>1.71</td>\n",
       "      <td>2.43</td>\n",
       "      <td>15.6</td>\n",
       "      <td>127.0</td>\n",
       "      <td>2.80</td>\n",
       "      <td>3.06</td>\n",
       "      <td>0.28</td>\n",
       "      <td>2.29</td>\n",
       "      <td>5.64</td>\n",
       "      <td>1.04</td>\n",
       "      <td>3.92</td>\n",
       "      <td>1065.0</td>\n",
       "      <td>0</td>\n",
       "    </tr>\n",
       "    <tr>\n",
       "      <th>1</th>\n",
       "      <td>13.20</td>\n",
       "      <td>1.78</td>\n",
       "      <td>2.14</td>\n",
       "      <td>11.2</td>\n",
       "      <td>100.0</td>\n",
       "      <td>2.65</td>\n",
       "      <td>2.76</td>\n",
       "      <td>0.26</td>\n",
       "      <td>1.28</td>\n",
       "      <td>4.38</td>\n",
       "      <td>1.05</td>\n",
       "      <td>3.40</td>\n",
       "      <td>1050.0</td>\n",
       "      <td>0</td>\n",
       "    </tr>\n",
       "    <tr>\n",
       "      <th>2</th>\n",
       "      <td>13.16</td>\n",
       "      <td>2.36</td>\n",
       "      <td>2.67</td>\n",
       "      <td>18.6</td>\n",
       "      <td>101.0</td>\n",
       "      <td>2.80</td>\n",
       "      <td>3.24</td>\n",
       "      <td>0.30</td>\n",
       "      <td>2.81</td>\n",
       "      <td>5.68</td>\n",
       "      <td>1.03</td>\n",
       "      <td>3.17</td>\n",
       "      <td>1185.0</td>\n",
       "      <td>0</td>\n",
       "    </tr>\n",
       "    <tr>\n",
       "      <th>3</th>\n",
       "      <td>14.37</td>\n",
       "      <td>1.95</td>\n",
       "      <td>2.50</td>\n",
       "      <td>16.8</td>\n",
       "      <td>113.0</td>\n",
       "      <td>3.85</td>\n",
       "      <td>3.49</td>\n",
       "      <td>0.24</td>\n",
       "      <td>2.18</td>\n",
       "      <td>7.80</td>\n",
       "      <td>0.86</td>\n",
       "      <td>3.45</td>\n",
       "      <td>1480.0</td>\n",
       "      <td>0</td>\n",
       "    </tr>\n",
       "    <tr>\n",
       "      <th>4</th>\n",
       "      <td>13.24</td>\n",
       "      <td>2.59</td>\n",
       "      <td>2.87</td>\n",
       "      <td>21.0</td>\n",
       "      <td>118.0</td>\n",
       "      <td>2.80</td>\n",
       "      <td>2.69</td>\n",
       "      <td>0.39</td>\n",
       "      <td>1.82</td>\n",
       "      <td>4.32</td>\n",
       "      <td>1.04</td>\n",
       "      <td>2.93</td>\n",
       "      <td>735.0</td>\n",
       "      <td>0</td>\n",
       "    </tr>\n",
       "  </tbody>\n",
       "</table>\n",
       "</div>"
      ],
      "text/plain": [
       "   alcohol  malic_acid   ash  alcalinity_of_ash  magnesium  total_phenols  \\\n",
       "0    14.23        1.71  2.43               15.6      127.0           2.80   \n",
       "1    13.20        1.78  2.14               11.2      100.0           2.65   \n",
       "2    13.16        2.36  2.67               18.6      101.0           2.80   \n",
       "3    14.37        1.95  2.50               16.8      113.0           3.85   \n",
       "4    13.24        2.59  2.87               21.0      118.0           2.80   \n",
       "\n",
       "   flavanoids  nonflavanoid_phenols  proanthocyanins  color_intensity   hue  \\\n",
       "0        3.06                  0.28             2.29             5.64  1.04   \n",
       "1        2.76                  0.26             1.28             4.38  1.05   \n",
       "2        3.24                  0.30             2.81             5.68  1.03   \n",
       "3        3.49                  0.24             2.18             7.80  0.86   \n",
       "4        2.69                  0.39             1.82             4.32  1.04   \n",
       "\n",
       "   od280/od315_of_diluted_wines  proline  target  \n",
       "0                          3.92   1065.0       0  \n",
       "1                          3.40   1050.0       0  \n",
       "2                          3.17   1185.0       0  \n",
       "3                          3.45   1480.0       0  \n",
       "4                          2.93    735.0       0  "
      ]
     },
     "execution_count": 7,
     "metadata": {},
     "output_type": "execute_result"
    }
   ],
   "source": [
    "# 导入数据集\n",
    "wine = load_wine();\n",
    "wine_data = pd.concat([pd.DataFrame(wine.data,columns = wine.feature_names),pd.DataFrame(wine.target,columns = ['target'])],axis = 1)\n",
    "wine_data.head()"
   ]
  },
  {
   "cell_type": "code",
   "execution_count": 11,
   "id": "7525ed09",
   "metadata": {},
   "outputs": [
    {
     "data": {
      "text/plain": [
       "[0, 1, 2]"
      ]
     },
     "execution_count": 11,
     "metadata": {},
     "output_type": "execute_result"
    }
   ],
   "source": [
    "wine_data['target'].unique().tolist()"
   ]
  },
  {
   "cell_type": "code",
   "execution_count": 18,
   "id": "a021bbe8",
   "metadata": {},
   "outputs": [],
   "source": [
    "# 实例化\n",
    "# 训练集带入实例化后的模型去进行训练，使用的接口是fit\n",
    "# 使用其他接口将测试集倒入我们训练好的模型，去获取我们希望获取的结果 score\n",
    "\n",
    "Xtrain, Xtest, Ytrain, Ytest = train_test_split(wine.data, wine.target, test_size = 0.4);"
   ]
  },
  {
   "cell_type": "code",
   "execution_count": 20,
   "id": "98c8e019",
   "metadata": {},
   "outputs": [
    {
     "name": "stdout",
     "output_type": "stream",
     "text": [
      "single Tree:0.9444444444444444 Random Forest:1.0\n"
     ]
    }
   ],
   "source": [
    "clf = DecisionTreeClassifier(random_state = 20);\n",
    "rfc = RandomForestClassifier(random_state = 20);\n",
    "\n",
    "clf = clf.fit(Xtrain, Ytrain);\n",
    "rfc = rfc.fit(Xtrain, Ytrain);\n",
    "\n",
    "score_c = clf.score(Xtest, Ytest);\n",
    "score_r = rfc.score(Xtest, Ytest);\n",
    "\n",
    "print(\"single Tree:{}\".format(score_c)\n",
    "     ,\"Random Forest:{}\".format(score_r))"
   ]
  },
  {
   "cell_type": "code",
   "execution_count": 26,
   "id": "0ff930ab",
   "metadata": {},
   "outputs": [
    {
     "name": "stdout",
     "output_type": "stream",
     "text": [
      "single Tree:0.865032679738562 Random Forest:0.9833333333333332\n"
     ]
    }
   ],
   "source": [
    "# 交叉验证\n",
    "clf = DecisionTreeClassifier(random_state = 20);\n",
    "rfc = RandomForestClassifier(random_state = 20, n_estimators = 50);\n",
    "score_c = cross_val_score(clf,wine.data,wine.target,cv = 10);\n",
    "score_r = cross_val_score(rfc,wine.data,wine.target,cv = 10);\n",
    "print(\"single Tree:{}\".format(score_c.mean())\n",
    "     ,\"Random Forest:{}\".format(score_r.mean()))"
   ]
  },
  {
   "cell_type": "code",
   "execution_count": 28,
   "id": "05bd6d42",
   "metadata": {},
   "outputs": [
    {
     "data": {
      "image/png": "[encoded data removed]",
      "text/plain": [
       "<Figure size 432x288 with 1 Axes>"
      ]
     },
     "metadata": {
      "needs_background": "light"
     },
     "output_type": "display_data"
    }
   ],
   "source": [
    "plt.plot(range(1,11),score_c,label = 'Signle Tree', color = 'blue');\n",
    "plt.plot(range(1,11),score_r,label = 'Random Forest', color = 'red');\n",
    "plt.legend();\n",
    "plt.show()\n"
   ]
  },
  {
   "cell_type": "code",
   "execution_count": 38,
   "id": "944bfbd0",
   "metadata": {},
   "outputs": [
    {
     "name": "stdout",
     "output_type": "stream",
     "text": [
      "RandomForest:0.9722\n",
      "DecisionTree:0.9\n"
     ]
    },
    {
     "data": {
      "image/png": "[encoded data removed]",
      "text/plain": [
       "<Figure size 432x288 with 1 Axes>"
      ]
     },
     "metadata": {
      "needs_background": "light"
     },
     "output_type": "display_data"
    }
   ],
   "source": [
    "label = ['RandomForest','DecisionTree']\n",
    "models = [rfc,clf]\n",
    "for idx,model in enumerate(models):\n",
    "    score = cross_val_score(model,wine.data,wine.target,cv = 20);\n",
    "    print(\"{}:{}\".format(label[idx],round(score.mean(),4)));\n",
    "    plt.plot(range(1,21),score,label = label[idx]);\n",
    "    plt.legend();"
   ]
  },
  {
   "cell_type": "code",
   "execution_count": 41,
   "id": "fd7ecf3c",
   "metadata": {},
   "outputs": [
    {
     "name": "stdout",
     "output_type": "stream",
     "text": [
      "0.9888888888888889 60\n"
     ]
    },
    {
     "data": {
      "image/png": "[encoded data removed]",
      "text/plain": [
       "<Figure size 1440x360 with 1 Axes>"
      ]
     },
     "metadata": {
      "needs_background": "light"
     },
     "output_type": "display_data"
    }
   ],
   "source": [
    "# n_estimator学习曲线\n",
    "superpa = [];\n",
    "for i in range(200):\n",
    "    rfc = RandomForestClassifier(n_estimators = i+1, n_jobs = -1);\n",
    "    rfc_s = cross_val_score(rfc, wine.data, wine.target, cv = 10).mean();\n",
    "    superpa.append(rfc_s)\n",
    "print(max(superpa),superpa.index(max(superpa)));\n",
    "plt.figure(figsize = [20,5]);\n",
    "plt.plot(range(1,201),superpa)\n",
    "plt.show()"
   ]
  },
  {
   "cell_type": "markdown",
   "id": "f9125356",
   "metadata": {},
   "source": [
    "随机森林本质时bagging继承算法，袋装集成算法对基评估器的预测结果进行平均或少数服从多数的原则来决定集成评估器的结果\n",
    "$$\n",
    "error_{random_forest} = \\sum_{i=13}^{25} C_{25}^i \\alpha^i(1-\\alpha)^{25-i} \n",
    "$$\n",
    "\n",
    "其中$\\alpha$代表单个决策树的判断错误的概率， i代表判断错误的决策树的个数 ， 假设25颗树，上述公式为随机森林判断错误的概率"
   ]
  },
  {
   "cell_type": "code",
   "execution_count": 44,
   "id": "adb51ae0",
   "metadata": {},
   "outputs": [
    {
     "data": {
      "text/plain": [
       "0.00036904803455582827"
      ]
     },
     "execution_count": 44,
     "metadata": {},
     "output_type": "execute_result"
    }
   ],
   "source": [
    "import numpy as np\n",
    "from scipy.special import comb\n",
    "\n",
    "np.array([comb(25,i)*(0.2**i)*((1-0.2)**(25-i)) for i in range(13,26)]).sum()"
   ]
  },
  {
   "cell_type": "code",
   "execution_count": 48,
   "id": "7e84cc55",
   "metadata": {},
   "outputs": [
    {
     "name": "stdout",
     "output_type": "stream",
     "text": [
      "0.9861111111111112\n"
     ]
    },
    {
     "data": {
      "text/plain": [
       "[DecisionTreeClassifier(max_features='auto', random_state=1872583848),\n",
       " DecisionTreeClassifier(max_features='auto', random_state=794921487),\n",
       " DecisionTreeClassifier(max_features='auto', random_state=111352301),\n",
       " DecisionTreeClassifier(max_features='auto', random_state=1853453896),\n",
       " DecisionTreeClassifier(max_features='auto', random_state=213298710),\n",
       " DecisionTreeClassifier(max_features='auto', random_state=1922988331),\n",
       " DecisionTreeClassifier(max_features='auto', random_state=1869695442),\n",
       " DecisionTreeClassifier(max_features='auto', random_state=2081981515),\n",
       " DecisionTreeClassifier(max_features='auto', random_state=1805465960),\n",
       " DecisionTreeClassifier(max_features='auto', random_state=1376693511),\n",
       " DecisionTreeClassifier(max_features='auto', random_state=1418777250),\n",
       " DecisionTreeClassifier(max_features='auto', random_state=663257521),\n",
       " DecisionTreeClassifier(max_features='auto', random_state=878959199),\n",
       " DecisionTreeClassifier(max_features='auto', random_state=854108747),\n",
       " DecisionTreeClassifier(max_features='auto', random_state=512264917),\n",
       " DecisionTreeClassifier(max_features='auto', random_state=515183663),\n",
       " DecisionTreeClassifier(max_features='auto', random_state=1287007039),\n",
       " DecisionTreeClassifier(max_features='auto', random_state=2083814687),\n",
       " DecisionTreeClassifier(max_features='auto', random_state=1146014426),\n",
       " DecisionTreeClassifier(max_features='auto', random_state=570104212),\n",
       " DecisionTreeClassifier(max_features='auto', random_state=520265852),\n",
       " DecisionTreeClassifier(max_features='auto', random_state=1366773364),\n",
       " DecisionTreeClassifier(max_features='auto', random_state=125164325),\n",
       " DecisionTreeClassifier(max_features='auto', random_state=786090663),\n",
       " DecisionTreeClassifier(max_features='auto', random_state=578016451)]"
      ]
     },
     "execution_count": 48,
     "metadata": {},
     "output_type": "execute_result"
    }
   ],
   "source": [
    "# 随机森林的重要属性： estimators_，查看森林中树的状况\n",
    "# 随机森林实例化中random_state是用于固定森林的形成格式；中间的每一颗树的random_state时不同的\n",
    "# random_state的局限性： 当需要成千上万颗树的时候，数据不一定能够提供成千上万的特征来构建尽量多的树\n",
    "rfc = RandomForestClassifier(n_estimators = 25, random_state = 2)\n",
    "rfc = rfc.fit(Xtrain,Ytrain);\n",
    "print(rfc.score(Xtest,Ytest));\n",
    "rfc.estimators_"
   ]
  },
  {
   "cell_type": "code",
   "execution_count": 49,
   "id": "d65e9779",
   "metadata": {},
   "outputs": [
    {
     "data": {
      "text/plain": [
       "1872583848"
      ]
     },
     "execution_count": 49,
     "metadata": {},
     "output_type": "execute_result"
    }
   ],
   "source": [
    "rfc.estimators_[0].random_state"
   ]
  },
  {
   "cell_type": "code",
   "execution_count": 54,
   "id": "1b25ad12",
   "metadata": {},
   "outputs": [
    {
     "name": "stdout",
     "output_type": "stream",
     "text": [
      "1872583848\n",
      "794921487\n",
      "111352301\n",
      "1853453896\n",
      "213298710\n",
      "1922988331\n",
      "1869695442\n",
      "2081981515\n",
      "1805465960\n",
      "1376693511\n",
      "1418777250\n",
      "663257521\n",
      "878959199\n",
      "854108747\n",
      "512264917\n",
      "515183663\n",
      "1287007039\n",
      "2083814687\n",
      "1146014426\n",
      "570104212\n",
      "520265852\n",
      "1366773364\n",
      "125164325\n",
      "786090663\n",
      "578016451\n"
     ]
    }
   ],
   "source": [
    "for i in range(len(rfc.estimators_)):\n",
    "    print(rfc.estimators_[i].random_state)"
   ]
  },
  {
   "cell_type": "markdown",
   "id": "2360f90e",
   "metadata": {},
   "source": [
    "### bootstrap && oob_score \n",
    "要让基分类器尽量都不一样，一种很容易理解的方法是使用不同的训练集来进行训练，而袋装法正是通过有放回的随机抽样技术来形成不同的训练数据，bootstrap就是用来控制抽样技术的参数\n",
    "bootstrap = True ，代表采用这种有放回的随机抽样技术\n",
    "一般来说，自助集大约平均包含63%的原始数据，因为每一个样本被抽到某个数据集中的概率为：\n",
    "$$\n",
    "1 - (1-\\frac{1}{n})^n\n",
    "$$\n",
    "当n足够大的时候，约等于0.632；因此，会有约37%的训练数据会被浪费掉，这些数据被称作袋外数据（out of bag data）\n",
    "这些数据可以用于作为集成算法的测试集；\n",
    "如果希望用袋外数据作为测试，实例化的时候将oob_score 调整为True， 训练完毕后，用随机森林的重要属性 oob_score_来查看我们在袋外数据上的测试结果"
   ]
  },
  {
   "cell_type": "code",
   "execution_count": 55,
   "id": "43390fa7",
   "metadata": {},
   "outputs": [
    {
     "data": {
      "text/plain": [
       "0.9831460674157303"
      ]
     },
     "execution_count": 55,
     "metadata": {},
     "output_type": "execute_result"
    }
   ],
   "source": [
    "# bootstrap, oob_score\n",
    "rfc = RandomForestClassifier(n_estimators = 1000, random_state = 20, bootstrap = True, oob_score = True);\n",
    "rfc = rfc.fit(wine.data, wine.target)\n",
    "rfc.oob_score_"
   ]
  },
  {
   "cell_type": "code",
   "execution_count": 57,
   "id": "d477af8c",
   "metadata": {},
   "outputs": [
    {
     "name": "stdout",
     "output_type": "stream",
     "text": [
      "1.0\n",
      "[0.14460501 0.04610053 0.01074736 0.03606965 0.02664868 0.06373105\n",
      " 0.13920913 0.01181293 0.03368011 0.16559861 0.05790882 0.10227177\n",
      " 0.16161635]\n",
      "[[ 9  9  5 ... 14 12  8]\n",
      " [12  9  5 ...  9 14 11]\n",
      " [12  9  5 ...  9 14 17]\n",
      " ...\n",
      " [ 8  3  3 ...  4  5 14]\n",
      " [16 18  9 ...  6 15  4]\n",
      " [ 9 18 16 ... 13 15 18]]\n",
      "[1 2 2 0 1 2 1 1 2 0 2 2 0 0 2 0 1 2 1 1 1 0 1 0 1 1 1 0 2 2 1 2 0 0 1 2 2\n",
      " 2 1 0 1 2 1 1 1 0 0 1 1 1 2 0 1 0 0 2 0 1 0 1 2 2 1 2 2 0 2 1 0 1 0 0]\n",
      "[[0.13333333 0.48333333 0.38333333]\n",
      " [0.11666667 0.01666667 0.86666667]\n",
      " [0.05       0.         0.95      ]\n",
      " [1.         0.         0.        ]\n",
      " [0.         0.83333333 0.16666667]\n",
      " [0.         0.2        0.8       ]\n",
      " [0.15       0.81666667 0.03333333]\n",
      " [0.         1.         0.        ]\n",
      " [0.08333333 0.06666667 0.85      ]\n",
      " [0.98333333 0.01666667 0.        ]\n",
      " [0.08333333 0.23333333 0.68333333]\n",
      " [0.         0.11666667 0.88333333]\n",
      " [0.98333333 0.         0.01666667]\n",
      " [0.85       0.13333333 0.01666667]\n",
      " [0.01666667 0.16666667 0.81666667]\n",
      " [0.95       0.01666667 0.03333333]\n",
      " [0.         1.         0.        ]\n",
      " [0.01666667 0.21666667 0.76666667]\n",
      " [0.15       0.81666667 0.03333333]\n",
      " [0.01666667 0.9        0.08333333]\n",
      " [0.11666667 0.88333333 0.        ]\n",
      " [1.         0.         0.        ]\n",
      " [0.01666667 0.88333333 0.1       ]\n",
      " [0.9        0.1        0.        ]\n",
      " [0.         1.         0.        ]\n",
      " [0.08333333 0.91666667 0.        ]\n",
      " [0.01666667 0.98333333 0.        ]\n",
      " [1.         0.         0.        ]\n",
      " [0.         0.05       0.95      ]\n",
      " [0.08333333 0.         0.91666667]\n",
      " [0.1        0.86666667 0.03333333]\n",
      " [0.         0.06666667 0.93333333]\n",
      " [0.98333333 0.01666667 0.        ]\n",
      " [0.73333333 0.26666667 0.        ]\n",
      " [0.25       0.63333333 0.11666667]\n",
      " [0.         0.01666667 0.98333333]\n",
      " [0.         0.13333333 0.86666667]\n",
      " [0.03333333 0.15       0.81666667]\n",
      " [0.1        0.86666667 0.03333333]\n",
      " [0.96666667 0.03333333 0.        ]\n",
      " [0.         0.93333333 0.06666667]\n",
      " [0.01666667 0.15       0.83333333]\n",
      " [0.05       0.95       0.        ]\n",
      " [0.         0.71666667 0.28333333]\n",
      " [0.03333333 0.91666667 0.05      ]\n",
      " [1.         0.         0.        ]\n",
      " [0.95       0.05       0.        ]\n",
      " [0.08333333 0.86666667 0.05      ]\n",
      " [0.         0.93333333 0.06666667]\n",
      " [0.15       0.78333333 0.06666667]\n",
      " [0.         0.1        0.9       ]\n",
      " [0.91666667 0.08333333 0.        ]\n",
      " [0.         0.96666667 0.03333333]\n",
      " [0.95       0.05       0.        ]\n",
      " [0.85       0.11666667 0.03333333]\n",
      " [0.11666667 0.         0.88333333]\n",
      " [0.98333333 0.01666667 0.        ]\n",
      " [0.1        0.9        0.        ]\n",
      " [0.93333333 0.06666667 0.        ]\n",
      " [0.06666667 0.93333333 0.        ]\n",
      " [0.21666667 0.1        0.68333333]\n",
      " [0.03333333 0.11666667 0.85      ]\n",
      " [0.         0.98333333 0.01666667]\n",
      " [0.         0.25       0.75      ]\n",
      " [0.13333333 0.01666667 0.85      ]\n",
      " [1.         0.         0.        ]\n",
      " [0.13333333 0.21666667 0.65      ]\n",
      " [0.         0.73333333 0.26666667]\n",
      " [1.         0.         0.        ]\n",
      " [0.         0.56666667 0.43333333]\n",
      " [0.7        0.3        0.        ]\n",
      " [0.96666667 0.01666667 0.01666667]]\n"
     ]
    }
   ],
   "source": [
    "# 属性与接口\n",
    "rfc = RandomForestClassifier(n_estimators = 60);\n",
    "rfc = rfc.fit(Xtrain,Ytrain);\n",
    "print(rfc.score(Xtest,Ytest));\n",
    "print(rfc.feature_importances_);\n",
    "print(rfc.apply(Xtest));\n",
    "print(rfc.predict(Xtest));\n",
    "print(rfc.predict_proba(Xtest));"
   ]
  },
  {
   "cell_type": "markdown",
   "id": "6565289d",
   "metadata": {},
   "source": [
    "### 袋装法的必要条件\n",
    "- 使用袋装法时要求基评估器要尽量独立\n",
    "- 基分类器的判断准确率至少要超过随机分类器（即至少超过50%）"
   ]
  },
  {
   "cell_type": "code",
   "execution_count": 59,
   "id": "377f3dfb",
   "metadata": {},
   "outputs": [
    {
     "data": {
      "image/png": "[encoded data removed]",
      "text/plain": [
       "<Figure size 432x288 with 1 Axes>"
      ]
     },
     "metadata": {
      "needs_background": "light"
     },
     "output_type": "display_data"
    }
   ],
   "source": [
    "import numpy as np\n",
    "x = np.linspace(0,1,20);\n",
    "y = [];\n",
    "for epsilon in np.linspace(0,1,20):\n",
    "    error = np.array([comb(25,i)*(epsilon**i)*((1-epsilon)**(25-i)) for i in range(13,26)]).sum()\n",
    "    y.append(error);\n",
    "plt.plot(x,y,\"o--\",label = 'when estimators are different');\n",
    "plt.plot(x,x,'--',color = 'red',label = 'if all estimators are same');\n",
    "plt.xlabel(\"individual estimator's error\");\n",
    "plt.ylabel(\"RandomForest's error\");\n",
    "plt.legend()\n",
    "plt.show()"
   ]
  },
  {
   "cell_type": "markdown",
   "id": "83d6c78c",
   "metadata": {},
   "source": [
    "# RandomForestRegressor\n",
    "> 官网链接： https://scikit-learn.org/stable/modules/generated/sklearn.ensemble.RandomForestRegressor.html#sklearn.ensemble.RandomForestRegressor\n",
    "\n",
    "```python\n",
    "class sklearn.ensemble.RandomForestRegressor(n_estimators=100, *, criterion='mse', max_depth=None, min_samples_split=2, min_samples_leaf=1, min_weight_fraction_leaf=0.0, max_features='auto', max_leaf_nodes=None, min_impurity_decrease=0.0, min_impurity_split=None, bootstrap=True, oob_score=False, n_jobs=None, random_state=None, verbose=0, warm_start=False, ccp_alpha=0.0, max_samples=None\n",
    "                                        \n",
    "```\n",
    "\n",
    "所有参数、属性和接口都和随机森林回归器一致；仅有的不同就是回归树和分类树的不同\n",
    "- criterion 参数不同 ： mse | friedman_mse | MAE \n",
    "- 模型的衡量指标不同 : 回归树默认是$R^2$，或者通过交叉验证可以选择 scoring = 'neg_mean_squared_error'  "
   ]
  },
  {
   "cell_type": "code",
   "execution_count": 60,
   "id": "a2ccbcef",
   "metadata": {},
   "outputs": [],
   "source": [
    "from sklearn.datasets import load_boston\n",
    "from sklearn.model_selection import train_test_split\n",
    "from sklearn.ensemble import RandomForestRegressor\n",
    "from sklearn.model_selection import cross_val_score\n",
    "import pandas as pd\n",
    "import numpy as np\n",
    "import matplotlib.pyplot as plt "
   ]
  },
  {
   "cell_type": "code",
   "execution_count": 61,
   "id": "b3ac223e",
   "metadata": {},
   "outputs": [],
   "source": [
    "boston = load_boston()"
   ]
  },
  {
   "cell_type": "code",
   "execution_count": 62,
   "id": "f230879d",
   "metadata": {},
   "outputs": [],
   "source": [
    "regressor = RandomForestRegressor(n_estimators = 60, random_state = 30) # 实例化\n",
    "score = cross_val_score(regressor, boston.data , boston.target, cv = 10 , scoring = 'neg_mean_squared_error');"
   ]
  },
  {
   "cell_type": "code",
   "execution_count": 63,
   "id": "0d8e27b6",
   "metadata": {},
   "outputs": [
    {
     "data": {
      "text/plain": [
       "array([-10.7797012 ,  -5.35283502,  -5.09709248, -20.15408061,\n",
       "       -12.23789074, -18.22866416,  -6.64649089, -95.88919233,\n",
       "       -28.65043967, -13.64524133])"
      ]
     },
     "execution_count": 63,
     "metadata": {},
     "output_type": "execute_result"
    }
   ],
   "source": [
    "score"
   ]
  },
  {
   "cell_type": "code",
   "execution_count": 66,
   "id": "95aa2fe7",
   "metadata": {},
   "outputs": [
    {
     "data": {
      "text/plain": [
       "['accuracy',\n",
       " 'adjusted_mutual_info_score',\n",
       " 'adjusted_rand_score',\n",
       " 'average_precision',\n",
       " 'balanced_accuracy',\n",
       " 'completeness_score',\n",
       " 'explained_variance',\n",
       " 'f1',\n",
       " 'f1_macro',\n",
       " 'f1_micro',\n",
       " 'f1_samples',\n",
       " 'f1_weighted',\n",
       " 'fowlkes_mallows_score',\n",
       " 'homogeneity_score',\n",
       " 'jaccard',\n",
       " 'jaccard_macro',\n",
       " 'jaccard_micro',\n",
       " 'jaccard_samples',\n",
       " 'jaccard_weighted',\n",
       " 'max_error',\n",
       " 'mutual_info_score',\n",
       " 'neg_brier_score',\n",
       " 'neg_log_loss',\n",
       " 'neg_mean_absolute_error',\n",
       " 'neg_mean_absolute_percentage_error',\n",
       " 'neg_mean_gamma_deviance',\n",
       " 'neg_mean_poisson_deviance',\n",
       " 'neg_mean_squared_error',\n",
       " 'neg_mean_squared_log_error',\n",
       " 'neg_median_absolute_error',\n",
       " 'neg_root_mean_squared_error',\n",
       " 'normalized_mutual_info_score',\n",
       " 'precision',\n",
       " 'precision_macro',\n",
       " 'precision_micro',\n",
       " 'precision_samples',\n",
       " 'precision_weighted',\n",
       " 'r2',\n",
       " 'rand_score',\n",
       " 'recall',\n",
       " 'recall_macro',\n",
       " 'recall_micro',\n",
       " 'recall_samples',\n",
       " 'recall_weighted',\n",
       " 'roc_auc',\n",
       " 'roc_auc_ovo',\n",
       " 'roc_auc_ovo_weighted',\n",
       " 'roc_auc_ovr',\n",
       " 'roc_auc_ovr_weighted',\n",
       " 'top_k_accuracy',\n",
       " 'v_measure_score']"
      ]
     },
     "execution_count": 66,
     "metadata": {},
     "output_type": "execute_result"
    }
   ],
   "source": [
    "# sklearn中模型评估指标（打分）列表\n",
    "import sklearn \n",
    "sorted(sklearn.metrics.SCORERS.keys())"
   ]
  },
  {
   "cell_type": "markdown",
   "id": "85d97ede",
   "metadata": {},
   "source": [
    "## 案例： 用随机森林回归填充缺失值\n",
    " 可以考虑使用sklearn.impute.SimpleImputer 来填充平均值、中值或其他常用的数据到数据中\n",
    "> 官网链接： https://scikit-learn.org/stable/modules/generated/sklearn.impute.SimpleImputer.html#sklearn.impute.SimpleImputer\n",
    " ```python\n",
    "class sklearn.impute.SimpleImputer(*, missing_values=nan, strategy='mean', fill_value=None, verbose=0, copy=True, add_indicator=False)\n",
    "```"
   ]
  },
  {
   "cell_type": "code",
   "execution_count": 69,
   "id": "9a31f4b4",
   "metadata": {},
   "outputs": [],
   "source": [
    "import numpy as np\n",
    "import pandas as pd \n",
    "import matplotlib.pyplot as plt\n",
    "from  sklearn.impute import SimpleImputer\n",
    "from sklearn.ensemble import RandomForestRegressor\n",
    "from sklearn.datasets import load_boston\n",
    "%matplotlib inline"
   ]
  },
  {
   "cell_type": "code",
   "execution_count": 70,
   "id": "f1631e68",
   "metadata": {},
   "outputs": [],
   "source": [
    "dataset = load_boston();"
   ]
  },
  {
   "cell_type": "code",
   "execution_count": 73,
   "id": "fcb3fcec",
   "metadata": {},
   "outputs": [
    {
     "data": {
      "text/plain": [
       "(506, 13)"
      ]
     },
     "execution_count": 73,
     "metadata": {},
     "output_type": "execute_result"
    }
   ],
   "source": [
    "dataset.data.shape"
   ]
  },
  {
   "cell_type": "code",
   "execution_count": 78,
   "id": "ab200db9",
   "metadata": {},
   "outputs": [],
   "source": [
    "X_full ,Y_full = dataset.data, dataset.target\n",
    "n_smaples = X_full.shape[0];\n",
    "n_features = X_full.shape[1]\n",
    "\n",
    "# 随机行索引，列索引\n",
    "rng = np.random.RandomState(0);\n",
    "missing_rate = 0.5\n",
    "n_missing_samples = int(np.floor(n_smaples * n_features * missing_rate));\n",
    "missing_features = rng.randint(0,n_features, n_missing_samples);\n",
    "missing_samples = rng.randint(0,n_smaples,n_missing_samples);\n",
    "# 将空值加入数组中\n",
    "X_missing = X_full.copy();\n",
    "Y_missing = Y_full.copy();\n",
    "X_missing[missing_samples, missing_features] = np.nan"
   ]
  },
  {
   "cell_type": "code",
   "execution_count": 81,
   "id": "d2fd360a",
   "metadata": {},
   "outputs": [
    {
     "data": {
      "text/plain": [
       "CRIM       200\n",
       "ZN         201\n",
       "INDUS      200\n",
       "CHAS       203\n",
       "NOX        202\n",
       "RM         201\n",
       "AGE        185\n",
       "DIS        197\n",
       "RAD        196\n",
       "TAX        197\n",
       "PTRATIO    204\n",
       "B          214\n",
       "LSTAT      189\n",
       "dtype: int64"
      ]
     },
     "execution_count": 81,
     "metadata": {},
     "output_type": "execute_result"
    }
   ],
   "source": [
    "X_missing_tmp = pd.DataFrame(X_missing,columns = dataset.feature_names);\n",
    "X_missing_tmp.isna().sum()"
   ]
  },
  {
   "cell_type": "code",
   "execution_count": 86,
   "id": "2ed4f6dc",
   "metadata": {},
   "outputs": [],
   "source": [
    "# 使用均值进行填补\n",
    "from sklearn.impute import SimpleImputer\n",
    "imp_mean = SimpleImputer(missing_values = np.nan, strategy = 'mean');\n",
    "X_missing_mean = imp_mean.fit_transform(X_missing);\n"
   ]
  },
  {
   "cell_type": "code",
   "execution_count": 84,
   "id": "599390ec",
   "metadata": {},
   "outputs": [
    {
     "data": {
      "text/plain": [
       "array([[       nan, 1.8000e+01,        nan, ...,        nan,        nan,\n",
       "        4.9800e+00],\n",
       "       [2.7310e-02, 0.0000e+00,        nan, ...,        nan, 3.9690e+02,\n",
       "        9.1400e+00],\n",
       "       [2.7290e-02,        nan, 7.0700e+00, ...,        nan,        nan,\n",
       "               nan],\n",
       "       ...,\n",
       "       [       nan,        nan, 1.1930e+01, ..., 2.1000e+01,        nan,\n",
       "        5.6400e+00],\n",
       "       [1.0959e-01, 0.0000e+00, 1.1930e+01, ..., 2.1000e+01, 3.9345e+02,\n",
       "        6.4800e+00],\n",
       "       [4.7410e-02, 0.0000e+00, 1.1930e+01, ...,        nan, 3.9690e+02,\n",
       "        7.8800e+00]])"
      ]
     },
     "execution_count": 84,
     "metadata": {},
     "output_type": "execute_result"
    }
   ],
   "source": [
    "X_missing"
   ]
  },
  {
   "cell_type": "code",
   "execution_count": 88,
   "id": "e65917c5",
   "metadata": {},
   "outputs": [
    {
     "data": {
      "text/plain": [
       "0     0\n",
       "1     0\n",
       "2     0\n",
       "3     0\n",
       "4     0\n",
       "5     0\n",
       "6     0\n",
       "7     0\n",
       "8     0\n",
       "9     0\n",
       "10    0\n",
       "11    0\n",
       "12    0\n",
       "dtype: int64"
      ]
     },
     "execution_count": 88,
     "metadata": {},
     "output_type": "execute_result"
    }
   ],
   "source": [
    "pd.DataFrame(X_missing_mean).isna().sum()"
   ]
  },
  {
   "cell_type": "code",
   "execution_count": 89,
   "id": "c665968f",
   "metadata": {},
   "outputs": [
    {
     "data": {
      "text/plain": [
       "array([[0.0000e+00, 1.8000e+01, 0.0000e+00, ..., 0.0000e+00, 0.0000e+00,\n",
       "        4.9800e+00],\n",
       "       [2.7310e-02, 0.0000e+00, 0.0000e+00, ..., 0.0000e+00, 3.9690e+02,\n",
       "        9.1400e+00],\n",
       "       [2.7290e-02, 0.0000e+00, 7.0700e+00, ..., 0.0000e+00, 0.0000e+00,\n",
       "        0.0000e+00],\n",
       "       ...,\n",
       "       [0.0000e+00, 0.0000e+00, 1.1930e+01, ..., 2.1000e+01, 0.0000e+00,\n",
       "        5.6400e+00],\n",
       "       [1.0959e-01, 0.0000e+00, 1.1930e+01, ..., 2.1000e+01, 3.9345e+02,\n",
       "        6.4800e+00],\n",
       "       [4.7410e-02, 0.0000e+00, 1.1930e+01, ..., 0.0000e+00, 3.9690e+02,\n",
       "        7.8800e+00]])"
      ]
     },
     "execution_count": 89,
     "metadata": {},
     "output_type": "execute_result"
    }
   ],
   "source": [
    "# 使用0进行填补\n",
    "from sklearn.impute import SimpleImputer\n",
    "imp_mean = SimpleImputer(missing_values = np.nan, strategy = 'constant',fill_value = 0);\n",
    "X_missing_0 = imp_mean.fit_transform(X_missing);\n",
    "X_missing_0"
   ]
  },
  {
   "cell_type": "code",
   "execution_count": 116,
   "id": "1b8b16ad",
   "metadata": {},
   "outputs": [
    {
     "name": "stdout",
     "output_type": "stream",
     "text": [
      "CRIM       200\n",
      "ZN         201\n",
      "INDUS      200\n",
      "CHAS       203\n",
      "NOX        202\n",
      "RM         201\n",
      "AGE        185\n",
      "DIS        197\n",
      "RAD        196\n",
      "TAX        197\n",
      "PTRATIO    204\n",
      "B          214\n",
      "LSTAT      189\n",
      "dtype: int64\n"
     ]
    },
    {
     "data": {
      "text/plain": [
       "array([ 6, 12,  8,  7,  9,  0,  2,  1,  5,  4,  3, 10, 11])"
      ]
     },
     "execution_count": 116,
     "metadata": {},
     "output_type": "execute_result"
    }
   ],
   "source": [
    "X_missing_reg = X_missing_tmp.copy();\n",
    "print(X_missing_reg.isna().sum())\n",
    "sortindex = np.argsort(X_missing_reg.isnull().sum(axis=0)).values\n",
    "# 返回： 从小到大的顺序所对应的索引\n",
    "sortindex"
   ]
  },
  {
   "cell_type": "code",
   "execution_count": 117,
   "id": "ce6e9c56",
   "metadata": {},
   "outputs": [
    {
     "data": {
      "text/html": [
       "<div>\n",
       "<style scoped>\n",
       "    .dataframe tbody tr th:only-of-type {\n",
       "        vertical-align: middle;\n",
       "    }\n",
       "\n",
       "    .dataframe tbody tr th {\n",
       "        vertical-align: top;\n",
       "    }\n",
       "\n",
       "    .dataframe thead th {\n",
       "        text-align: right;\n",
       "    }\n",
       "</style>\n",
       "<table border=\"1\" class=\"dataframe\">\n",
       "  <thead>\n",
       "    <tr style=\"text-align: right;\">\n",
       "      <th></th>\n",
       "      <th>CRIM</th>\n",
       "      <th>ZN</th>\n",
       "      <th>INDUS</th>\n",
       "      <th>CHAS</th>\n",
       "      <th>NOX</th>\n",
       "      <th>RM</th>\n",
       "      <th>AGE</th>\n",
       "      <th>DIS</th>\n",
       "      <th>RAD</th>\n",
       "      <th>TAX</th>\n",
       "      <th>PTRATIO</th>\n",
       "      <th>B</th>\n",
       "      <th>LSTAT</th>\n",
       "    </tr>\n",
       "  </thead>\n",
       "  <tbody>\n",
       "    <tr>\n",
       "      <th>0</th>\n",
       "      <td>NaN</td>\n",
       "      <td>18.0</td>\n",
       "      <td>NaN</td>\n",
       "      <td>NaN</td>\n",
       "      <td>0.538</td>\n",
       "      <td>NaN</td>\n",
       "      <td>65.2</td>\n",
       "      <td>4.0900</td>\n",
       "      <td>1.0</td>\n",
       "      <td>296.0</td>\n",
       "      <td>NaN</td>\n",
       "      <td>NaN</td>\n",
       "      <td>4.98</td>\n",
       "    </tr>\n",
       "    <tr>\n",
       "      <th>1</th>\n",
       "      <td>0.02731</td>\n",
       "      <td>0.0</td>\n",
       "      <td>NaN</td>\n",
       "      <td>0.0</td>\n",
       "      <td>0.469</td>\n",
       "      <td>NaN</td>\n",
       "      <td>78.9</td>\n",
       "      <td>4.9671</td>\n",
       "      <td>2.0</td>\n",
       "      <td>NaN</td>\n",
       "      <td>NaN</td>\n",
       "      <td>396.90</td>\n",
       "      <td>9.14</td>\n",
       "    </tr>\n",
       "    <tr>\n",
       "      <th>2</th>\n",
       "      <td>0.02729</td>\n",
       "      <td>NaN</td>\n",
       "      <td>7.07</td>\n",
       "      <td>0.0</td>\n",
       "      <td>NaN</td>\n",
       "      <td>7.185</td>\n",
       "      <td>61.1</td>\n",
       "      <td>NaN</td>\n",
       "      <td>2.0</td>\n",
       "      <td>242.0</td>\n",
       "      <td>NaN</td>\n",
       "      <td>NaN</td>\n",
       "      <td>NaN</td>\n",
       "    </tr>\n",
       "    <tr>\n",
       "      <th>3</th>\n",
       "      <td>NaN</td>\n",
       "      <td>NaN</td>\n",
       "      <td>NaN</td>\n",
       "      <td>0.0</td>\n",
       "      <td>0.458</td>\n",
       "      <td>NaN</td>\n",
       "      <td>45.8</td>\n",
       "      <td>NaN</td>\n",
       "      <td>NaN</td>\n",
       "      <td>222.0</td>\n",
       "      <td>18.7</td>\n",
       "      <td>NaN</td>\n",
       "      <td>NaN</td>\n",
       "    </tr>\n",
       "    <tr>\n",
       "      <th>4</th>\n",
       "      <td>NaN</td>\n",
       "      <td>0.0</td>\n",
       "      <td>2.18</td>\n",
       "      <td>0.0</td>\n",
       "      <td>NaN</td>\n",
       "      <td>7.147</td>\n",
       "      <td>NaN</td>\n",
       "      <td>NaN</td>\n",
       "      <td>NaN</td>\n",
       "      <td>NaN</td>\n",
       "      <td>18.7</td>\n",
       "      <td>NaN</td>\n",
       "      <td>5.33</td>\n",
       "    </tr>\n",
       "    <tr>\n",
       "      <th>...</th>\n",
       "      <td>...</td>\n",
       "      <td>...</td>\n",
       "      <td>...</td>\n",
       "      <td>...</td>\n",
       "      <td>...</td>\n",
       "      <td>...</td>\n",
       "      <td>...</td>\n",
       "      <td>...</td>\n",
       "      <td>...</td>\n",
       "      <td>...</td>\n",
       "      <td>...</td>\n",
       "      <td>...</td>\n",
       "      <td>...</td>\n",
       "    </tr>\n",
       "    <tr>\n",
       "      <th>501</th>\n",
       "      <td>NaN</td>\n",
       "      <td>NaN</td>\n",
       "      <td>NaN</td>\n",
       "      <td>0.0</td>\n",
       "      <td>0.573</td>\n",
       "      <td>NaN</td>\n",
       "      <td>69.1</td>\n",
       "      <td>NaN</td>\n",
       "      <td>1.0</td>\n",
       "      <td>NaN</td>\n",
       "      <td>21.0</td>\n",
       "      <td>NaN</td>\n",
       "      <td>9.67</td>\n",
       "    </tr>\n",
       "    <tr>\n",
       "      <th>502</th>\n",
       "      <td>0.04527</td>\n",
       "      <td>0.0</td>\n",
       "      <td>11.93</td>\n",
       "      <td>0.0</td>\n",
       "      <td>0.573</td>\n",
       "      <td>6.120</td>\n",
       "      <td>76.7</td>\n",
       "      <td>2.2875</td>\n",
       "      <td>1.0</td>\n",
       "      <td>273.0</td>\n",
       "      <td>NaN</td>\n",
       "      <td>396.90</td>\n",
       "      <td>9.08</td>\n",
       "    </tr>\n",
       "    <tr>\n",
       "      <th>503</th>\n",
       "      <td>NaN</td>\n",
       "      <td>NaN</td>\n",
       "      <td>11.93</td>\n",
       "      <td>NaN</td>\n",
       "      <td>0.573</td>\n",
       "      <td>6.976</td>\n",
       "      <td>91.0</td>\n",
       "      <td>NaN</td>\n",
       "      <td>NaN</td>\n",
       "      <td>NaN</td>\n",
       "      <td>21.0</td>\n",
       "      <td>NaN</td>\n",
       "      <td>5.64</td>\n",
       "    </tr>\n",
       "    <tr>\n",
       "      <th>504</th>\n",
       "      <td>0.10959</td>\n",
       "      <td>0.0</td>\n",
       "      <td>11.93</td>\n",
       "      <td>NaN</td>\n",
       "      <td>0.573</td>\n",
       "      <td>NaN</td>\n",
       "      <td>89.3</td>\n",
       "      <td>NaN</td>\n",
       "      <td>1.0</td>\n",
       "      <td>NaN</td>\n",
       "      <td>21.0</td>\n",
       "      <td>393.45</td>\n",
       "      <td>6.48</td>\n",
       "    </tr>\n",
       "    <tr>\n",
       "      <th>505</th>\n",
       "      <td>0.04741</td>\n",
       "      <td>0.0</td>\n",
       "      <td>11.93</td>\n",
       "      <td>0.0</td>\n",
       "      <td>0.573</td>\n",
       "      <td>6.030</td>\n",
       "      <td>NaN</td>\n",
       "      <td>NaN</td>\n",
       "      <td>1.0</td>\n",
       "      <td>NaN</td>\n",
       "      <td>NaN</td>\n",
       "      <td>396.90</td>\n",
       "      <td>7.88</td>\n",
       "    </tr>\n",
       "  </tbody>\n",
       "</table>\n",
       "<p>506 rows × 13 columns</p>\n",
       "</div>"
      ],
      "text/plain": [
       "        CRIM    ZN  INDUS  CHAS    NOX     RM   AGE     DIS  RAD    TAX  \\\n",
       "0        NaN  18.0    NaN   NaN  0.538    NaN  65.2  4.0900  1.0  296.0   \n",
       "1    0.02731   0.0    NaN   0.0  0.469    NaN  78.9  4.9671  2.0    NaN   \n",
       "2    0.02729   NaN   7.07   0.0    NaN  7.185  61.1     NaN  2.0  242.0   \n",
       "3        NaN   NaN    NaN   0.0  0.458    NaN  45.8     NaN  NaN  222.0   \n",
       "4        NaN   0.0   2.18   0.0    NaN  7.147   NaN     NaN  NaN    NaN   \n",
       "..       ...   ...    ...   ...    ...    ...   ...     ...  ...    ...   \n",
       "501      NaN   NaN    NaN   0.0  0.573    NaN  69.1     NaN  1.0    NaN   \n",
       "502  0.04527   0.0  11.93   0.0  0.573  6.120  76.7  2.2875  1.0  273.0   \n",
       "503      NaN   NaN  11.93   NaN  0.573  6.976  91.0     NaN  NaN    NaN   \n",
       "504  0.10959   0.0  11.93   NaN  0.573    NaN  89.3     NaN  1.0    NaN   \n",
       "505  0.04741   0.0  11.93   0.0  0.573  6.030   NaN     NaN  1.0    NaN   \n",
       "\n",
       "     PTRATIO       B  LSTAT  \n",
       "0        NaN     NaN   4.98  \n",
       "1        NaN  396.90   9.14  \n",
       "2        NaN     NaN    NaN  \n",
       "3       18.7     NaN    NaN  \n",
       "4       18.7     NaN   5.33  \n",
       "..       ...     ...    ...  \n",
       "501     21.0     NaN   9.67  \n",
       "502      NaN  396.90   9.08  \n",
       "503     21.0     NaN   5.64  \n",
       "504     21.0  393.45   6.48  \n",
       "505      NaN  396.90   7.88  \n",
       "\n",
       "[506 rows x 13 columns]"
      ]
     },
     "execution_count": 117,
     "metadata": {},
     "output_type": "execute_result"
    }
   ],
   "source": [
    "X_missing_reg"
   ]
  },
  {
   "cell_type": "code",
   "execution_count": 118,
   "id": "6cdd3c62",
   "metadata": {},
   "outputs": [
    {
     "name": "stdout",
     "output_type": "stream",
     "text": [
      "-------------\n",
      "CRIM       200\n",
      "ZN         201\n",
      "INDUS      200\n",
      "CHAS       203\n",
      "NOX        202\n",
      "RM         201\n",
      "AGE          0\n",
      "DIS        197\n",
      "RAD        196\n",
      "TAX        197\n",
      "PTRATIO    204\n",
      "B          214\n",
      "LSTAT      189\n",
      "dtype: int64\n",
      "-------------\n",
      "CRIM       200\n",
      "ZN         201\n",
      "INDUS      200\n",
      "CHAS       203\n",
      "NOX        202\n",
      "RM         201\n",
      "AGE          0\n",
      "DIS        197\n",
      "RAD        196\n",
      "TAX        197\n",
      "PTRATIO    204\n",
      "B          214\n",
      "LSTAT        0\n",
      "dtype: int64\n",
      "-------------\n",
      "CRIM       200\n",
      "ZN         201\n",
      "INDUS      200\n",
      "CHAS       203\n",
      "NOX        202\n",
      "RM         201\n",
      "AGE          0\n",
      "DIS        197\n",
      "RAD          0\n",
      "TAX        197\n",
      "PTRATIO    204\n",
      "B          214\n",
      "LSTAT        0\n",
      "dtype: int64\n",
      "-------------\n",
      "CRIM       200\n",
      "ZN         201\n",
      "INDUS      200\n",
      "CHAS       203\n",
      "NOX        202\n",
      "RM         201\n",
      "AGE          0\n",
      "DIS          0\n",
      "RAD          0\n",
      "TAX        197\n",
      "PTRATIO    204\n",
      "B          214\n",
      "LSTAT        0\n",
      "dtype: int64\n",
      "-------------\n",
      "CRIM       200\n",
      "ZN         201\n",
      "INDUS      200\n",
      "CHAS       203\n",
      "NOX        202\n",
      "RM         201\n",
      "AGE          0\n",
      "DIS          0\n",
      "RAD          0\n",
      "TAX          0\n",
      "PTRATIO    204\n",
      "B          214\n",
      "LSTAT        0\n",
      "dtype: int64\n",
      "-------------\n",
      "CRIM         0\n",
      "ZN         201\n",
      "INDUS      200\n",
      "CHAS       203\n",
      "NOX        202\n",
      "RM         201\n",
      "AGE          0\n",
      "DIS          0\n",
      "RAD          0\n",
      "TAX          0\n",
      "PTRATIO    204\n",
      "B          214\n",
      "LSTAT        0\n",
      "dtype: int64\n",
      "-------------\n",
      "CRIM         0\n",
      "ZN         201\n",
      "INDUS        0\n",
      "CHAS       203\n",
      "NOX        202\n",
      "RM         201\n",
      "AGE          0\n",
      "DIS          0\n",
      "RAD          0\n",
      "TAX          0\n",
      "PTRATIO    204\n",
      "B          214\n",
      "LSTAT        0\n",
      "dtype: int64\n",
      "-------------\n",
      "CRIM         0\n",
      "ZN           0\n",
      "INDUS        0\n",
      "CHAS       203\n",
      "NOX        202\n",
      "RM         201\n",
      "AGE          0\n",
      "DIS          0\n",
      "RAD          0\n",
      "TAX          0\n",
      "PTRATIO    204\n",
      "B          214\n",
      "LSTAT        0\n",
      "dtype: int64\n",
      "-------------\n",
      "CRIM         0\n",
      "ZN           0\n",
      "INDUS        0\n",
      "CHAS       203\n",
      "NOX        202\n",
      "RM           0\n",
      "AGE          0\n",
      "DIS          0\n",
      "RAD          0\n",
      "TAX          0\n",
      "PTRATIO    204\n",
      "B          214\n",
      "LSTAT        0\n",
      "dtype: int64\n",
      "-------------\n",
      "CRIM         0\n",
      "ZN           0\n",
      "INDUS        0\n",
      "CHAS       203\n",
      "NOX          0\n",
      "RM           0\n",
      "AGE          0\n",
      "DIS          0\n",
      "RAD          0\n",
      "TAX          0\n",
      "PTRATIO    204\n",
      "B          214\n",
      "LSTAT        0\n",
      "dtype: int64\n",
      "-------------\n",
      "CRIM         0\n",
      "ZN           0\n",
      "INDUS        0\n",
      "CHAS         0\n",
      "NOX          0\n",
      "RM           0\n",
      "AGE          0\n",
      "DIS          0\n",
      "RAD          0\n",
      "TAX          0\n",
      "PTRATIO    204\n",
      "B          214\n",
      "LSTAT        0\n",
      "dtype: int64\n",
      "-------------\n",
      "CRIM         0\n",
      "ZN           0\n",
      "INDUS        0\n",
      "CHAS         0\n",
      "NOX          0\n",
      "RM           0\n",
      "AGE          0\n",
      "DIS          0\n",
      "RAD          0\n",
      "TAX          0\n",
      "PTRATIO      0\n",
      "B          214\n",
      "LSTAT        0\n",
      "dtype: int64\n",
      "-------------\n",
      "CRIM       0\n",
      "ZN         0\n",
      "INDUS      0\n",
      "CHAS       0\n",
      "NOX        0\n",
      "RM         0\n",
      "AGE        0\n",
      "DIS        0\n",
      "RAD        0\n",
      "TAX        0\n",
      "PTRATIO    0\n",
      "B          0\n",
      "LSTAT      0\n",
      "dtype: int64\n"
     ]
    }
   ],
   "source": [
    "# 填补空值\n",
    "for i in sortindex:\n",
    "    df = X_missing_reg;\n",
    "    fillc = df.iloc[:,i]; # 作为target\n",
    "    df = pd.concat([df.iloc[:,df.columns != df.columns[i]],pd.DataFrame(Y_full)],axis = 1); # 将剩余特征与target组合形成训练集\n",
    "    df_0 = SimpleImputer(missing_values = np.nan, strategy = 'constant',fill_value = 0).fit_transform(df);  # 将训练集中的缺失值补充为0\n",
    "    Ytrain = fillc[fillc.notnull()]; # 划分训练集和测试集\n",
    "    Ytest = fillc[fillc.isnull()];\n",
    "    Xtrain = df_0[Ytrain.index,:]; # 已经是数组了\n",
    "    Xtest = df_0[Ytest.index,:];\n",
    "    rfc = RandomForestRegressor(n_estimators = 100);\n",
    "    rfc = rfc.fit(Xtrain,Ytrain);\n",
    "    Ypredict = rfc.predict(Xtest);\n",
    "    X_missing_reg.iloc[X_missing_reg.iloc[:,i].isnull(),i] = Ypredict;\n",
    "    print('-------------');\n",
    "    print(X_missing_reg.isna().sum())"
   ]
  },
  {
   "cell_type": "code",
   "execution_count": 119,
   "id": "984fa568",
   "metadata": {},
   "outputs": [
    {
     "data": {
      "text/plain": [
       "CRIM       0\n",
       "ZN         0\n",
       "INDUS      0\n",
       "CHAS       0\n",
       "NOX        0\n",
       "RM         0\n",
       "AGE        0\n",
       "DIS        0\n",
       "RAD        0\n",
       "TAX        0\n",
       "PTRATIO    0\n",
       "B          0\n",
       "LSTAT      0\n",
       "dtype: int64"
      ]
     },
     "execution_count": 119,
     "metadata": {},
     "output_type": "execute_result"
    }
   ],
   "source": [
    "X_missing_reg.isna().sum()"
   ]
  },
  {
   "cell_type": "code",
   "execution_count": 120,
   "id": "9e42827a",
   "metadata": {},
   "outputs": [
    {
     "name": "stdout",
     "output_type": "stream",
     "text": [
      "[21.765896304705873, 41.18311751078433, 45.18233433407843, 18.356951010901955]\n"
     ]
    }
   ],
   "source": [
    "X = [X_full, X_missing_mean, X_missing_0, X_missing_reg];\n",
    "mse = [];\n",
    "for x in X:\n",
    "    estimator = RandomForestRegressor(random_state = 0, n_estimators = 100);\n",
    "    scores = cross_val_score(estimator, x, Y_full, scoring = 'neg_mean_squared_error', cv = 10).mean();\n",
    "    mse.append(scores * -1)\n",
    "print(mse)"
   ]
  },
  {
   "cell_type": "code",
   "execution_count": 132,
   "id": "2bc6e613",
   "metadata": {},
   "outputs": [
    {
     "data": {
      "text/plain": [
       "[('full_data', 21.765896304705873),\n",
       " ('Zero imputation', 41.18311751078433),\n",
       " ('Mean imputation', 45.18233433407843),\n",
       " ('Regressor Imputation', 18.356951010901955)]"
      ]
     },
     "execution_count": 132,
     "metadata": {},
     "output_type": "execute_result"
    }
   ],
   "source": [
    "[*zip(['full_data'\n",
    "           ,'Zero imputation'\n",
    "           ,'Mean imputation'\n",
    "           ,'Regressor Imputation'],mse)]"
   ]
  },
  {
   "cell_type": "code",
   "execution_count": 142,
   "id": "ac4251ee",
   "metadata": {},
   "outputs": [
    {
     "data": {
      "image/png": "[encoded data removed]",
      "text/plain": [
       "<Figure size 864x432 with 1 Axes>"
      ]
     },
     "metadata": {
      "needs_background": "light"
     },
     "output_type": "display_data"
    }
   ],
   "source": [
    "# 可视化\n",
    "X_labels = ['full_data'\n",
    "           ,'Zero imputation'\n",
    "           ,'Mean imputation'\n",
    "           ,'Regressor Imputation'];\n",
    "colors = ['r','g','b','orange'];\n",
    "plt.figure(figsize = (12,6));\n",
    "ax = plt.subplot(111)\n",
    "for i in np.arange(len(mse)):\n",
    "    ax.barh(i,mse[i],color = colors[i], alpha = 0.6, align = 'center');\n",
    "ax.set_title(\"imputation Techniques with boston data\");\n",
    "ax.set_xlim(left = min(mse) * 0.9, right = max(mse)*1.1);\n",
    "ax.set_yticks(np.arange(len(mse)));\n",
    "ax.invert_yaxis();\n",
    "ax.set_yticklabels(X_labels);\n",
    "plt.show()"
   ]
  },
  {
   "cell_type": "code",
   "execution_count": 140,
   "id": "f3efb974",
   "metadata": {},
   "outputs": [
    {
     "data": {
      "image/png": "[encoded data removed]",
      "text/plain": [
       "<Figure size 864x432 with 1 Axes>"
      ]
     },
     "metadata": {
      "needs_background": "light"
     },
     "output_type": "display_data"
    }
   ],
   "source": [
    "# 可视化\n",
    "X_labels = ['full_data'\n",
    "           ,'Zero imputation'\n",
    "           ,'Mean imputation'\n",
    "           ,'Regressor Imputation'];\n",
    "colors = ['r','g','b','orange'];\n",
    "plt.figure(figsize = (12,6));\n",
    "ax = plt.subplot(111)\n",
    "for i in np.arange(len(mse)):\n",
    "    ax.bar(i,mse[i],color = colors[i], alpha = 0.6, align = 'center');\n",
    "ax.set_title(\"imputation Techniques with boston data\");\n",
    "ax.set_ylim(bottom = min(mse) * 0.9, top = max(mse)*1.1);\n",
    "ax.set_xticks(np.arange(len(mse)));\n",
    "ax.set_ylabel(\"MSE\")\n",
    "ax.invert_xaxis();\n",
    "ax.set_xticklabels(X_labels);\n",
    "plt.show()"
   ]
  },
  {
   "cell_type": "code",
   "execution_count": 139,
   "id": "76c91338",
   "metadata": {
    "scrolled": true
   },
   "outputs": [
    {
     "data": {
      "image/png": "[encoded data removed]",
      "text/plain": [
       "<Figure size 864x432 with 1 Axes>"
      ]
     },
     "metadata": {
      "needs_background": "light"
     },
     "output_type": "display_data"
    }
   ],
   "source": [
    "# 可视化\n",
    "X_labels = ['full_data'\n",
    "           ,'Zero imputation'\n",
    "           ,'Mean imputation'\n",
    "           ,'Regressor Imputation'];\n",
    "colors = ['r','g','b','orange'];\n",
    "plt.figure(figsize = (12,6));\n",
    "ax = plt.subplot(111)\n",
    "for i in np.arange(len(mse)):\n",
    "    ax.bar(i,mse[i],color = colors[i], alpha = 0.6, align = 'center');\n",
    "ax.set_title(\"imputation Techniques with boston data\");\n",
    "ax.set_ylim(bottom = min(mse) * 0.9, top = max(mse)*1.1);\n",
    "ax.set_xticks(np.arange(len(mse)));\n",
    "ax.set_xticklabels(X_labels);\n",
    "plt.show()"
   ]
  },
  {
   "cell_type": "markdown",
   "id": "68feea6c",
   "metadata": {},
   "source": [
    "## 随机森林在乳腺癌数据上的调参"
   ]
  },
  {
   "cell_type": "code",
   "execution_count": 143,
   "id": "f8bd9fe4",
   "metadata": {},
   "outputs": [],
   "source": [
    "from sklearn.datasets import load_breast_cancer\n",
    "from sklearn.ensemble import RandomForestClassifier\n",
    "from sklearn.model_selection import GridSearchCV\n",
    "from sklearn.model_selection import cross_val_score\n",
    "import matplotlib.pyplot as plt\n",
    "import pandas as pd\n",
    "import numpy as np\n",
    "%matplotlib inline"
   ]
  },
  {
   "cell_type": "code",
   "execution_count": 145,
   "id": "67520f21",
   "metadata": {},
   "outputs": [
    {
     "data": {
      "text/plain": [
       "{'data': array([[1.799e+01, 1.038e+01, 1.228e+02, ..., 2.654e-01, 4.601e-01,\n",
       "         1.189e-01],\n",
       "        [2.057e+01, 1.777e+01, 1.329e+02, ..., 1.860e-01, 2.750e-01,\n",
       "         8.902e-02],\n",
       "        [1.969e+01, 2.125e+01, 1.300e+02, ..., 2.430e-01, 3.613e-01,\n",
       "         8.758e-02],\n",
       "        ...,\n",
       "        [1.660e+01, 2.808e+01, 1.083e+02, ..., 1.418e-01, 2.218e-01,\n",
       "         7.820e-02],\n",
       "        [2.060e+01, 2.933e+01, 1.401e+02, ..., 2.650e-01, 4.087e-01,\n",
       "         1.240e-01],\n",
       "        [7.760e+00, 2.454e+01, 4.792e+01, ..., 0.000e+00, 2.871e-01,\n",
       "         7.039e-02]]),\n",
       " 'target': array([0, 0, 0, 0, 0, 0, 0, 0, 0, 0, 0, 0, 0, 0, 0, 0, 0, 0, 0, 1, 1, 1,\n",
       "        0, 0, 0, 0, 0, 0, 0, 0, 0, 0, 0, 0, 0, 0, 0, 1, 0, 0, 0, 0, 0, 0,\n",
       "        0, 0, 1, 0, 1, 1, 1, 1, 1, 0, 0, 1, 0, 0, 1, 1, 1, 1, 0, 1, 0, 0,\n",
       "        1, 1, 1, 1, 0, 1, 0, 0, 1, 0, 1, 0, 0, 1, 1, 1, 0, 0, 1, 0, 0, 0,\n",
       "        1, 1, 1, 0, 1, 1, 0, 0, 1, 1, 1, 0, 0, 1, 1, 1, 1, 0, 1, 1, 0, 1,\n",
       "        1, 1, 1, 1, 1, 1, 1, 0, 0, 0, 1, 0, 0, 1, 1, 1, 0, 0, 1, 0, 1, 0,\n",
       "        0, 1, 0, 0, 1, 1, 0, 1, 1, 0, 1, 1, 1, 1, 0, 1, 1, 1, 1, 1, 1, 1,\n",
       "        1, 1, 0, 1, 1, 1, 1, 0, 0, 1, 0, 1, 1, 0, 0, 1, 1, 0, 0, 1, 1, 1,\n",
       "        1, 0, 1, 1, 0, 0, 0, 1, 0, 1, 0, 1, 1, 1, 0, 1, 1, 0, 0, 1, 0, 0,\n",
       "        0, 0, 1, 0, 0, 0, 1, 0, 1, 0, 1, 1, 0, 1, 0, 0, 0, 0, 1, 1, 0, 0,\n",
       "        1, 1, 1, 0, 1, 1, 1, 1, 1, 0, 0, 1, 1, 0, 1, 1, 0, 0, 1, 0, 1, 1,\n",
       "        1, 1, 0, 1, 1, 1, 1, 1, 0, 1, 0, 0, 0, 0, 0, 0, 0, 0, 0, 0, 0, 0,\n",
       "        0, 0, 1, 1, 1, 1, 1, 1, 0, 1, 0, 1, 1, 0, 1, 1, 0, 1, 0, 0, 1, 1,\n",
       "        1, 1, 1, 1, 1, 1, 1, 1, 1, 1, 1, 0, 1, 1, 0, 1, 0, 1, 1, 1, 1, 1,\n",
       "        1, 1, 1, 1, 1, 1, 1, 1, 1, 0, 1, 1, 1, 0, 1, 0, 1, 1, 1, 1, 0, 0,\n",
       "        0, 1, 1, 1, 1, 0, 1, 0, 1, 0, 1, 1, 1, 0, 1, 1, 1, 1, 1, 1, 1, 0,\n",
       "        0, 0, 1, 1, 1, 1, 1, 1, 1, 1, 1, 1, 1, 0, 0, 1, 0, 0, 0, 1, 0, 0,\n",
       "        1, 1, 1, 1, 1, 0, 1, 1, 1, 1, 1, 0, 1, 1, 1, 0, 1, 1, 0, 0, 1, 1,\n",
       "        1, 1, 1, 1, 0, 1, 1, 1, 1, 1, 1, 1, 0, 1, 1, 1, 1, 1, 0, 1, 1, 0,\n",
       "        1, 1, 1, 1, 1, 1, 1, 1, 1, 1, 1, 1, 0, 1, 0, 0, 1, 0, 1, 1, 1, 1,\n",
       "        1, 0, 1, 1, 0, 1, 0, 1, 1, 0, 1, 0, 1, 1, 1, 1, 1, 1, 1, 1, 0, 0,\n",
       "        1, 1, 1, 1, 1, 1, 0, 1, 1, 1, 1, 1, 1, 1, 1, 1, 1, 0, 1, 1, 1, 1,\n",
       "        1, 1, 1, 0, 1, 0, 1, 1, 0, 1, 1, 1, 1, 1, 0, 0, 1, 0, 1, 0, 1, 1,\n",
       "        1, 1, 1, 0, 1, 1, 0, 1, 0, 1, 0, 0, 1, 1, 1, 0, 1, 1, 1, 1, 1, 1,\n",
       "        1, 1, 1, 1, 1, 0, 1, 0, 0, 1, 1, 1, 1, 1, 1, 1, 1, 1, 1, 1, 1, 1,\n",
       "        1, 1, 1, 1, 1, 1, 1, 1, 1, 1, 1, 1, 0, 0, 0, 0, 0, 0, 1]),\n",
       " 'frame': None,\n",
       " 'target_names': array(['malignant', 'benign'], dtype='<U9'),\n",
       " 'DESCR': '.. _breast_cancer_dataset:\\n\\nBreast cancer wisconsin (diagnostic) dataset\\n--------------------------------------------\\n\\n**Data Set Characteristics:**\\n\\n    :Number of Instances: 569\\n\\n    :Number of Attributes: 30 numeric, predictive attributes and the class\\n\\n    :Attribute Information:\\n        - radius (mean of distances from center to points on the perimeter)\\n        - texture (standard deviation of gray-scale values)\\n        - perimeter\\n        - area\\n        - smoothness (local variation in radius lengths)\\n        - compactness (perimeter^2 / area - 1.0)\\n        - concavity (severity of concave portions of the contour)\\n        - concave points (number of concave portions of the contour)\\n        - symmetry\\n        - fractal dimension (\"coastline approximation\" - 1)\\n\\n        The mean, standard error, and \"worst\" or largest (mean of the three\\n        worst/largest values) of these features were computed for each image,\\n        resulting in 30 features.  For instance, field 0 is Mean Radius, field\\n        10 is Radius SE, field 20 is Worst Radius.\\n\\n        - class:\\n                - WDBC-Malignant\\n                - WDBC-Benign\\n\\n    :Summary Statistics:\\n\\n    ===================================== ====== ======\\n                                           Min    Max\\n    ===================================== ====== ======\\n    radius (mean):                        6.981  28.11\\n    texture (mean):                       9.71   39.28\\n    perimeter (mean):                     43.79  188.5\\n    area (mean):                          143.5  2501.0\\n    smoothness (mean):                    0.053  0.163\\n    compactness (mean):                   0.019  0.345\\n    concavity (mean):                     0.0    0.427\\n    concave points (mean):                0.0    0.201\\n    symmetry (mean):                      0.106  0.304\\n    fractal dimension (mean):             0.05   0.097\\n    radius (standard error):              0.112  2.873\\n    texture (standard error):             0.36   4.885\\n    perimeter (standard error):           0.757  21.98\\n    area (standard error):                6.802  542.2\\n    smoothness (standard error):          0.002  0.031\\n    compactness (standard error):         0.002  0.135\\n    concavity (standard error):           0.0    0.396\\n    concave points (standard error):      0.0    0.053\\n    symmetry (standard error):            0.008  0.079\\n    fractal dimension (standard error):   0.001  0.03\\n    radius (worst):                       7.93   36.04\\n    texture (worst):                      12.02  49.54\\n    perimeter (worst):                    50.41  251.2\\n    area (worst):                         185.2  4254.0\\n    smoothness (worst):                   0.071  0.223\\n    compactness (worst):                  0.027  1.058\\n    concavity (worst):                    0.0    1.252\\n    concave points (worst):               0.0    0.291\\n    symmetry (worst):                     0.156  0.664\\n    fractal dimension (worst):            0.055  0.208\\n    ===================================== ====== ======\\n\\n    :Missing Attribute Values: None\\n\\n    :Class Distribution: 212 - Malignant, 357 - Benign\\n\\n    :Creator:  Dr. William H. Wolberg, W. Nick Street, Olvi L. Mangasarian\\n\\n    :Donor: Nick Street\\n\\n    :Date: November, 1995\\n\\nThis is a copy of UCI ML Breast Cancer Wisconsin (Diagnostic) datasets.\\nhttps://goo.gl/U2Uwz2\\n\\nFeatures are computed from a digitized image of a fine needle\\naspirate (FNA) of a breast mass.  They describe\\ncharacteristics of the cell nuclei present in the image.\\n\\nSeparating plane described above was obtained using\\nMultisurface Method-Tree (MSM-T) [K. P. Bennett, \"Decision Tree\\nConstruction Via Linear Programming.\" Proceedings of the 4th\\nMidwest Artificial Intelligence and Cognitive Science Society,\\npp. 97-101, 1992], a classification method which uses linear\\nprogramming to construct a decision tree.  Relevant features\\nwere selected using an exhaustive search in the space of 1-4\\nfeatures and 1-3 separating planes.\\n\\nThe actual linear program used to obtain the separating plane\\nin the 3-dimensional space is that described in:\\n[K. P. Bennett and O. L. Mangasarian: \"Robust Linear\\nProgramming Discrimination of Two Linearly Inseparable Sets\",\\nOptimization Methods and Software 1, 1992, 23-34].\\n\\nThis database is also available through the UW CS ftp server:\\n\\nftp ftp.cs.wisc.edu\\ncd math-prog/cpo-dataset/machine-learn/WDBC/\\n\\n.. topic:: References\\n\\n   - W.N. Street, W.H. Wolberg and O.L. Mangasarian. Nuclear feature extraction \\n     for breast tumor diagnosis. IS&T/SPIE 1993 International Symposium on \\n     Electronic Imaging: Science and Technology, volume 1905, pages 861-870,\\n     San Jose, CA, 1993.\\n   - O.L. Mangasarian, W.N. Street and W.H. Wolberg. Breast cancer diagnosis and \\n     prognosis via linear programming. Operations Research, 43(4), pages 570-577, \\n     July-August 1995.\\n   - W.H. Wolberg, W.N. Street, and O.L. Mangasarian. Machine learning techniques\\n     to diagnose breast cancer from fine-needle aspirates. Cancer Letters 77 (1994) \\n     163-171.',\n",
       " 'feature_names': array(['mean radius', 'mean texture', 'mean perimeter', 'mean area',\n",
       "        'mean smoothness', 'mean compactness', 'mean concavity',\n",
       "        'mean concave points', 'mean symmetry', 'mean fractal dimension',\n",
       "        'radius error', 'texture error', 'perimeter error', 'area error',\n",
       "        'smoothness error', 'compactness error', 'concavity error',\n",
       "        'concave points error', 'symmetry error',\n",
       "        'fractal dimension error', 'worst radius', 'worst texture',\n",
       "        'worst perimeter', 'worst area', 'worst smoothness',\n",
       "        'worst compactness', 'worst concavity', 'worst concave points',\n",
       "        'worst symmetry', 'worst fractal dimension'], dtype='<U23'),\n",
       " 'filename': '/Users/louhaoran/opt/anaconda3/lib/python3.8/site-packages/sklearn/datasets/data/breast_cancer.csv'}"
      ]
     },
     "execution_count": 145,
     "metadata": {},
     "output_type": "execute_result"
    }
   ],
   "source": [
    "# 导入数据集\n",
    "data = load_breast_cancer()\n",
    "data"
   ]
  },
  {
   "cell_type": "code",
   "execution_count": 146,
   "id": "da30b9cf",
   "metadata": {},
   "outputs": [
    {
     "data": {
      "text/plain": [
       "array([0, 0, 0, 0, 0, 0, 0, 0, 0, 0, 0, 0, 0, 0, 0, 0, 0, 0, 0, 1, 1, 1,\n",
       "       0, 0, 0, 0, 0, 0, 0, 0, 0, 0, 0, 0, 0, 0, 0, 1, 0, 0, 0, 0, 0, 0,\n",
       "       0, 0, 1, 0, 1, 1, 1, 1, 1, 0, 0, 1, 0, 0, 1, 1, 1, 1, 0, 1, 0, 0,\n",
       "       1, 1, 1, 1, 0, 1, 0, 0, 1, 0, 1, 0, 0, 1, 1, 1, 0, 0, 1, 0, 0, 0,\n",
       "       1, 1, 1, 0, 1, 1, 0, 0, 1, 1, 1, 0, 0, 1, 1, 1, 1, 0, 1, 1, 0, 1,\n",
       "       1, 1, 1, 1, 1, 1, 1, 0, 0, 0, 1, 0, 0, 1, 1, 1, 0, 0, 1, 0, 1, 0,\n",
       "       0, 1, 0, 0, 1, 1, 0, 1, 1, 0, 1, 1, 1, 1, 0, 1, 1, 1, 1, 1, 1, 1,\n",
       "       1, 1, 0, 1, 1, 1, 1, 0, 0, 1, 0, 1, 1, 0, 0, 1, 1, 0, 0, 1, 1, 1,\n",
       "       1, 0, 1, 1, 0, 0, 0, 1, 0, 1, 0, 1, 1, 1, 0, 1, 1, 0, 0, 1, 0, 0,\n",
       "       0, 0, 1, 0, 0, 0, 1, 0, 1, 0, 1, 1, 0, 1, 0, 0, 0, 0, 1, 1, 0, 0,\n",
       "       1, 1, 1, 0, 1, 1, 1, 1, 1, 0, 0, 1, 1, 0, 1, 1, 0, 0, 1, 0, 1, 1,\n",
       "       1, 1, 0, 1, 1, 1, 1, 1, 0, 1, 0, 0, 0, 0, 0, 0, 0, 0, 0, 0, 0, 0,\n",
       "       0, 0, 1, 1, 1, 1, 1, 1, 0, 1, 0, 1, 1, 0, 1, 1, 0, 1, 0, 0, 1, 1,\n",
       "       1, 1, 1, 1, 1, 1, 1, 1, 1, 1, 1, 0, 1, 1, 0, 1, 0, 1, 1, 1, 1, 1,\n",
       "       1, 1, 1, 1, 1, 1, 1, 1, 1, 0, 1, 1, 1, 0, 1, 0, 1, 1, 1, 1, 0, 0,\n",
       "       0, 1, 1, 1, 1, 0, 1, 0, 1, 0, 1, 1, 1, 0, 1, 1, 1, 1, 1, 1, 1, 0,\n",
       "       0, 0, 1, 1, 1, 1, 1, 1, 1, 1, 1, 1, 1, 0, 0, 1, 0, 0, 0, 1, 0, 0,\n",
       "       1, 1, 1, 1, 1, 0, 1, 1, 1, 1, 1, 0, 1, 1, 1, 0, 1, 1, 0, 0, 1, 1,\n",
       "       1, 1, 1, 1, 0, 1, 1, 1, 1, 1, 1, 1, 0, 1, 1, 1, 1, 1, 0, 1, 1, 0,\n",
       "       1, 1, 1, 1, 1, 1, 1, 1, 1, 1, 1, 1, 0, 1, 0, 0, 1, 0, 1, 1, 1, 1,\n",
       "       1, 0, 1, 1, 0, 1, 0, 1, 1, 0, 1, 0, 1, 1, 1, 1, 1, 1, 1, 1, 0, 0,\n",
       "       1, 1, 1, 1, 1, 1, 0, 1, 1, 1, 1, 1, 1, 1, 1, 1, 1, 0, 1, 1, 1, 1,\n",
       "       1, 1, 1, 0, 1, 0, 1, 1, 0, 1, 1, 1, 1, 1, 0, 0, 1, 0, 1, 0, 1, 1,\n",
       "       1, 1, 1, 0, 1, 1, 0, 1, 0, 1, 0, 0, 1, 1, 1, 0, 1, 1, 1, 1, 1, 1,\n",
       "       1, 1, 1, 1, 1, 0, 1, 0, 0, 1, 1, 1, 1, 1, 1, 1, 1, 1, 1, 1, 1, 1,\n",
       "       1, 1, 1, 1, 1, 1, 1, 1, 1, 1, 1, 1, 0, 0, 0, 0, 0, 0, 1])"
      ]
     },
     "execution_count": 146,
     "metadata": {},
     "output_type": "execute_result"
    }
   ],
   "source": [
    "data.target"
   ]
  },
  {
   "cell_type": "code",
   "execution_count": 147,
   "id": "21b8d92e",
   "metadata": {},
   "outputs": [
    {
     "data": {
      "text/plain": [
       "(569, 30)"
      ]
     },
     "execution_count": 147,
     "metadata": {},
     "output_type": "execute_result"
    }
   ],
   "source": [
    "data.data.shape"
   ]
  },
  {
   "cell_type": "code",
   "execution_count": 148,
   "id": "f4178be8",
   "metadata": {},
   "outputs": [
    {
     "data": {
      "text/plain": [
       "array(['malignant', 'benign'], dtype='<U9')"
      ]
     },
     "execution_count": 148,
     "metadata": {},
     "output_type": "execute_result"
    }
   ],
   "source": [
    "data.target_names"
   ]
  },
  {
   "cell_type": "code",
   "execution_count": 149,
   "id": "b2b1d982",
   "metadata": {},
   "outputs": [
    {
     "data": {
      "text/plain": [
       "array(['mean radius', 'mean texture', 'mean perimeter', 'mean area',\n",
       "       'mean smoothness', 'mean compactness', 'mean concavity',\n",
       "       'mean concave points', 'mean symmetry', 'mean fractal dimension',\n",
       "       'radius error', 'texture error', 'perimeter error', 'area error',\n",
       "       'smoothness error', 'compactness error', 'concavity error',\n",
       "       'concave points error', 'symmetry error',\n",
       "       'fractal dimension error', 'worst radius', 'worst texture',\n",
       "       'worst perimeter', 'worst area', 'worst smoothness',\n",
       "       'worst compactness', 'worst concavity', 'worst concave points',\n",
       "       'worst symmetry', 'worst fractal dimension'], dtype='<U23')"
      ]
     },
     "execution_count": 149,
     "metadata": {},
     "output_type": "execute_result"
    }
   ],
   "source": [
    "data.feature_names"
   ]
  },
  {
   "cell_type": "code",
   "execution_count": 151,
   "id": "3042a836",
   "metadata": {},
   "outputs": [
    {
     "name": "stdout",
     "output_type": "stream",
     "text": [
      "0.9614\n"
     ]
    }
   ],
   "source": [
    "# 实例化\n",
    "rfc = RandomForestClassifier(n_estimators = 60, random_state = 90);\n",
    "score_pre = cross_val_score(rfc, data.data, data.target, cv = 10).mean();\n",
    "print(round(score_pre,4))"
   ]
  },
  {
   "cell_type": "code",
   "execution_count": 155,
   "id": "1f7bfb07",
   "metadata": {},
   "outputs": [
    {
     "data": {
      "image/png": "[encoded data removed]",
      "text/plain": [
       "<Figure size 432x288 with 1 Axes>"
      ]
     },
     "metadata": {
      "needs_background": "light"
     },
     "output_type": "display_data"
    }
   ],
   "source": [
    "# 学习曲线，n_estimators\n",
    "scorel = [];\n",
    "for i in range(0,200,10):\n",
    "    rfc = RandomForestClassifier(n_estimators = i+1, random_state = 90);\n",
    "    score_pre = cross_val_score(rfc, data.data, data.target, cv = 10).mean();\n",
    "    scorel.append(score_pre);\n",
    "plt.plot(range(1,201,10),scorel,'o--', color = 'red',label = 'learning curve of n_estimators');\n",
    "plt.legend();\n",
    "plt.show()"
   ]
  },
  {
   "cell_type": "code",
   "execution_count": 157,
   "id": "7f6bdc44",
   "metadata": {},
   "outputs": [
    {
     "name": "stdout",
     "output_type": "stream",
     "text": [
      "0.9631265664160402 71\n"
     ]
    }
   ],
   "source": [
    "print(max(scorel),(scorel.index(max(scorel))*10+1))"
   ]
  },
  {
   "cell_type": "code",
   "execution_count": 158,
   "id": "4285164f",
   "metadata": {},
   "outputs": [
    {
     "data": {
      "image/png": "[encoded data removed]",
      "text/plain": [
       "<Figure size 432x288 with 1 Axes>"
      ]
     },
     "metadata": {
      "needs_background": "light"
     },
     "output_type": "display_data"
    },
    {
     "name": "stdout",
     "output_type": "stream",
     "text": [
      "0.9631265664160402 71\n"
     ]
    }
   ],
   "source": [
    "# 学习曲线，n_estimators\n",
    "scorel_v2 = [];\n",
    "for i in range(60,80,1):\n",
    "    rfc = RandomForestClassifier(n_estimators = i+1, random_state = 90);\n",
    "    score_pre = cross_val_score(rfc, data.data, data.target, cv = 10).mean();\n",
    "    scorel_v2.append(score_pre);\n",
    "plt.plot(range(61,81,1),scorel_v2,'o--', color = 'red',label = 'learning curve of n_estimators');\n",
    "plt.legend();\n",
    "plt.show();"
   ]
  },
  {
   "cell_type": "code",
   "execution_count": 166,
   "id": "c01814aa",
   "metadata": {},
   "outputs": [
    {
     "name": "stdout",
     "output_type": "stream",
     "text": [
      "0.9666353383458647 72\n"
     ]
    }
   ],
   "source": [
    "print(max(scorel_v2),([*range(60,80,1)][scorel_v2.index(max(scorel_v2))]))"
   ]
  },
  {
   "cell_type": "code",
   "execution_count": 168,
   "id": "d2c8a64b",
   "metadata": {},
   "outputs": [],
   "source": [
    "# 某些参数可以先跑学习曲线，缩小范围，再用网格搜索\n",
    "param_grid = {\n",
    "     'criterion' : ['gini','entropy']\n",
    "    ,'max_depth' : range(10,20,1)\n",
    "};\n",
    "rfc = RandomForestClassifier(n_estimators = 72, random_state = 90);\n",
    "GC = GridSearchCV(rfc, param_grid, cv = 10);\n",
    "GC = GC.fit(data.data, data.target);"
   ]
  },
  {
   "cell_type": "code",
   "execution_count": 169,
   "id": "2e080d63",
   "metadata": {},
   "outputs": [
    {
     "data": {
      "text/plain": [
       "{'criterion': 'gini', 'max_depth': 10}"
      ]
     },
     "execution_count": 169,
     "metadata": {},
     "output_type": "execute_result"
    }
   ],
   "source": [
    "GC.best_params_ # 调整出来的最佳参数"
   ]
  },
  {
   "cell_type": "code",
   "execution_count": 170,
   "id": "5e57aa3d",
   "metadata": {},
   "outputs": [
    {
     "data": {
      "text/plain": [
       "0.9648809523809524"
      ]
     },
     "execution_count": 170,
     "metadata": {},
     "output_type": "execute_result"
    }
   ],
   "source": [
    "GC.best_score_ # 最好的准确率"
   ]
  },
  {
   "cell_type": "code",
   "execution_count": 171,
   "id": "1749d38c",
   "metadata": {},
   "outputs": [],
   "source": [
    "# 网格搜索\n",
    "'''\n",
    "max_features是能够既将模型往左（低方差高偏差）推，又能将模型往右（高方差低偏差）推的参数\n",
    "max_features的默认最小值为sqrt(n_features)\n",
    "'''\n",
    "param_grid = {\n",
    "     'max_features' : np.arange(5,30,1)\n",
    "};\n",
    "rfc = RandomForestClassifier(n_estimators = 72, random_state = 90, max_depth = 10, criterion = 'gini');\n",
    "GC = GridSearchCV(rfc, param_grid, cv = 10);\n",
    "GC = GC.fit(data.data, data.target);"
   ]
  },
  {
   "cell_type": "code",
   "execution_count": 172,
   "id": "46754057",
   "metadata": {},
   "outputs": [
    {
     "data": {
      "text/plain": [
       "{'max_features': 28}"
      ]
     },
     "execution_count": 172,
     "metadata": {},
     "output_type": "execute_result"
    }
   ],
   "source": [
    "GC.best_params_ # 调整出来的最佳参数"
   ]
  },
  {
   "cell_type": "code",
   "execution_count": 173,
   "id": "63e59e7c",
   "metadata": {},
   "outputs": [
    {
     "data": {
      "text/plain": [
       "0.968421052631579"
      ]
     },
     "execution_count": 173,
     "metadata": {},
     "output_type": "execute_result"
    }
   ],
   "source": [
    "GC.best_score_ # 最好的准确率"
   ]
  },
  {
   "cell_type": "code",
   "execution_count": 174,
   "id": "b883a551",
   "metadata": {},
   "outputs": [
    {
     "data": {
      "text/plain": [
       "0.9613721804511279"
      ]
     },
     "execution_count": 174,
     "metadata": {},
     "output_type": "execute_result"
    }
   ],
   "source": [
    " #调整min_samples_leaf\n",
    "param_grid={'min_samples_leaf':np.arange(1, 1+10, 1)}\n",
    "#对于min_samples_split和min_samples_leaf,一般是从他们的最小值开始向上增加10或20 \n",
    "#面对高维度高样本量数据，如果不放心，也可以直接+50，对于大型数据，可能需要200~300的范围 \n",
    "#如果调整的时候发现准确率无论如何都上不来，那可以放心大胆调一个很大的数据，大力限制模型的复杂度\n",
    "rfc = RandomForestClassifier(n_estimators=39\n",
    "                             ,random_state=90\n",
    "                            )\n",
    "GS = GridSearchCV(rfc,param_grid,cv=10)\n",
    "GS.fit(data.data,data.target)\n",
    "GS.best_score_"
   ]
  },
  {
   "cell_type": "code",
   "execution_count": 175,
   "id": "fafdd3d3",
   "metadata": {},
   "outputs": [
    {
     "data": {
      "text/plain": [
       "{'min_samples_leaf': 4}"
      ]
     },
     "execution_count": 175,
     "metadata": {},
     "output_type": "execute_result"
    }
   ],
   "source": [
    "GS.best_params_"
   ]
  },
  {
   "cell_type": "code",
   "execution_count": null,
   "id": "7c42b097",
   "metadata": {},
   "outputs": [],
   "source": []
  }
 ],
 "metadata": {
  "kernelspec": {
   "display_name": "Python 3",
   "language": "python",
   "name": "python3"
  },
  "language_info": {
   "codemirror_mode": {
    "name": "ipython",
    "version": 3
   },
   "file_extension": ".py",
   "mimetype": "text/x-python",
   "name": "python",
   "nbconvert_exporter": "python",
   "pygments_lexer": "ipython3",
   "version": "3.8.8"
  }
 },
 "nbformat": 4,
 "nbformat_minor": 5
}
